{
 "metadata": {
  "name": "tarea9"
 },
 "nbformat": 3,
 "nbformat_minor": 0,
 "worksheets": [
  {
   "cells": [
    {
     "cell_type": "code",
     "collapsed": false,
     "input": [
      "%pylab inline\n",
      "#load the list of points\n",
      "obs_data = loadtxt(\"traces.dat\")\n",
      "x1 = obs_data[:,0]\n",
      "y1 = obs_data[:,1]\n",
      "z1 = obs_data[:,2]\n",
      "x2 = obs_data[:,3]\n",
      "y2 = obs_data[:,4]\n",
      "z2 = obs_data[:,5]"
     ],
     "language": "python",
     "metadata": {},
     "outputs": [
      {
       "output_type": "stream",
       "stream": "stdout",
       "text": [
        "\n",
        "Welcome to pylab, a matplotlib-based Python environment [backend: module://IPython.kernel.zmq.pylab.backend_inline].\n",
        "For more information, type 'help(pylab)'.\n"
       ]
      }
     ],
     "prompt_number": 85
    },
    {
     "cell_type": "code",
     "collapsed": false,
     "input": [
      "def likelihood(x, x_model,y, y_model):\n",
      "    chi_squared = sum((x-x_model)**2 + (y-y_model)**2 )\n",
      "    #   return exp(-chi_squared)\n",
      "    return exp(-chi_squared)"
     ],
     "language": "python",
     "metadata": {},
     "outputs": [],
     "prompt_number": 99
    },
    {
     "cell_type": "code",
     "collapsed": false,
     "input": [
      "def my_model(x0, y0, z0,x1,y1,z1,z2):\n",
      "    retorno=[]\n",
      "    delta_x= (x1-x0)/(z1-z0)\n",
      "    delta_y= (y1-y0)/(z1-z0)\n",
      "    y2= delta_y*(z2-z0)+ y0  \n",
      "    x2= delta_x*(z2-z0)+ x0\n",
      "    retorno.append(x2)\n",
      "    retorno.append(y2)    \n",
      "    return retorno"
     ],
     "language": "python",
     "metadata": {},
     "outputs": [],
     "prompt_number": 110
    },
    {
     "cell_type": "code",
     "collapsed": false,
     "input": [
      "x0_walk = empty((0)) #this is an empty list to keep all the steps\n",
      "y0_walk = empty((0))\n",
      "z0_walk = empty((0))\n",
      "\n",
      "x0_walk = append(x0_walk, random.random())\n",
      "y0_walk = append(y0_walk, random.random())\n",
      "z0_walk = append(z0_walk, -random.random())\n",
      "print x0_walk\n",
      "print y0_walk\n",
      "print z0_walk"
     ],
     "language": "python",
     "metadata": {},
     "outputs": [
      {
       "output_type": "stream",
       "stream": "stdout",
       "text": [
        "[ 0.77120639]\n",
        "[ 0.44547125]\n",
        "[-0.05481689]\n"
       ]
      }
     ],
     "prompt_number": 222
    },
    {
     "cell_type": "code",
     "collapsed": false,
     "input": [
      "n_iterations = 50000 #this is the number of iterations I want to make\n",
      "for i in range(n_iterations):\n",
      "\n",
      "    x0_prime = np.random.normal(x0_walk[i], 1.0) \n",
      "    y0_prime = np.random.normal(y0_walk[i], 1.0)\n",
      "    z0_prime = np.random.normal(z0_walk[i], 100.0)\n",
      "    while(z0_prime>0.0):\n",
      "        \n",
      "        p_init = my_model(x0_walk[i],y0_walk[i],z0_walk[i],x1,y1,z1,z2)\n",
      "        p_prime = my_model(x0_prime,y0_prime,z0_prime,x1,y1,z1,z2)\n",
      "\n",
      "        alpha = likelihood(x2,p_prime[0],y2, p_prime[1])/likelihood(x2,p_init[0],y2,p_init[1])\n",
      "        if(alpha>1.0):\n",
      "            x0_walk  = append(x0_walk,x0_prime)\n",
      "            y0_walk  = append(y0_walk,y0_prime)\n",
      "            z0_walk  = append(z0_walk,z0_prime)\n",
      "        else:\n",
      "            beta = random.random()\n",
      "            if(beta<alpha):\n",
      "                x0_walk  = append(x0_walk,x0_prime)\n",
      "                y0_walk  = append(y0_walk,y0_prime)\n",
      "                z0_walk  = append(z0_walk,z0_prime)\n",
      "            else:\n",
      "                x0_walk  = append(x0_walk,x0_walk[i])\n",
      "                y0_walk  = append(y0_walk,y0_walk[i])\n",
      "                z0_walk  = append(z0_walk,z0_walk[i])"
     ],
     "language": "python",
     "metadata": {},
     "outputs": [],
     "prompt_number": "*"
    },
    {
     "cell_type": "code",
     "collapsed": false,
     "input": [
      "x0_walk_new= x0_walk[ 2*len(x0_walk)/3:len(x0_walk)]\n",
      "y0_walk_new= y0_walk[ 2*len(y0_walk)/3:len(y0_walk)]\n",
      "z0_walk_new= z0_walk[ 2*len(z0_walk)/3:len(z0_walk)]\n",
      "\n",
      "hist(x0_walk)\n",
      "hist(y0_walk)\n",
      "hist(z0_walk)"
     ],
     "language": "python",
     "metadata": {},
     "outputs": [],
     "prompt_number": "*"
    },
    {
     "cell_type": "code",
     "collapsed": false,
     "input": [
      "best_x0 = average(x0_walk)\n",
      "best_y0 = average(y0_walk)\n",
      "best_z0 = average(z0_walk)\n",
      "print best_x0, best_y0, best_z0"
     ],
     "language": "python",
     "metadata": {},
     "outputs": [],
     "prompt_number": "*"
    },
    {
     "cell_type": "code",
     "collapsed": false,
     "input": [
      "scatter(x0_walk,y0_walk)"
     ],
     "language": "python",
     "metadata": {},
     "outputs": [],
     "prompt_number": "*"
    },
    {
     "cell_type": "code",
     "collapsed": false,
     "input": [
      "scatter(x0_walk,z0_walk)"
     ],
     "language": "python",
     "metadata": {},
     "outputs": [],
     "prompt_number": "*"
    },
    {
     "cell_type": "code",
     "collapsed": false,
     "input": [],
     "language": "python",
     "metadata": {},
     "outputs": [],
     "prompt_number": "*"
    },
    {
     "cell_type": "code",
     "collapsed": false,
     "input": [],
     "language": "python",
     "metadata": {},
     "outputs": []
    }
   ],
   "metadata": {}
  }
 ]
}
